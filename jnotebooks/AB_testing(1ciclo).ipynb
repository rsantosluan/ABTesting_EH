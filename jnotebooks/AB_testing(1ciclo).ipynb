{
 "cells": [
  {
   "cell_type": "markdown",
   "metadata": {},
   "source": [
    "# AB/ Testing"
   ]
  },
  {
   "cell_type": "markdown",
   "metadata": {},
   "source": [
    "## Imports"
   ]
  },
  {
   "cell_type": "code",
   "execution_count": 1,
   "metadata": {},
   "outputs": [],
   "source": [
    "import pickle as pkl"
   ]
  },
  {
   "cell_type": "markdown",
   "metadata": {},
   "source": [
    "## 1. Data Load"
   ]
  },
  {
   "cell_type": "code",
   "execution_count": 2,
   "metadata": {},
   "outputs": [],
   "source": [
    "data_raw = pkl.load( open( '../models/data_raw.sav', 'rb' ) )"
   ]
  },
  {
   "cell_type": "markdown",
   "metadata": {},
   "source": [
    "## 2. Preparação dos dados"
   ]
  },
  {
   "cell_type": "code",
   "execution_count": 3,
   "metadata": {},
   "outputs": [
    {
     "name": "stdout",
     "output_type": "stream",
     "text": [
      "----Controle de redundância----\n",
      "Não há redundâncias\n",
      "***\n",
      "----Amostragem----\n",
      "Grupo controle contendo 22874 linhas e 8 colunas\n",
      "Grupo tratamento contendo 23009 linhas e 8 colunas\n",
      "***\n",
      "----Taxa geral de conversão----\n",
      "Grupo controle :   1886.4 de média aproximada de gasto e 4.6 de média de compras\n",
      "Grupo tratamento : 1880.5 de média aproximada de gasto e 4.5 de média de compras\n"
     ]
    }
   ],
   "source": [
    "### Verificação de redundancia de IDs\n",
    "print( '----Controle de redundância----' )\n",
    "duplicated = data_raw[['uid', 'group']].groupby( 'uid' ).count().reset_index().query( 'group > 1' )['uid']\n",
    "if duplicated.empty:\n",
    "    print( 'Não há redundâncias' )\n",
    "else:\n",
    "    print( f'Os seguintes Ids estão duplicados: {duplicated}' ) \n",
    "\n",
    "print( '***' )\n",
    "### Amostragem\n",
    "print( '----Amostragem----' )\n",
    "df_control = data_raw[data_raw.group == 'GRP B'] # Grupo com usuários que utilizaram preenchimento manual\n",
    "df_treatment = data_raw[data_raw.group == 'GRP A'] # Grupo com usuários que utilizaram preenchimento automático\n",
    "\n",
    "print( f'Grupo controle contendo {df_control.shape[0]} linhas e {df_control.shape[1]} colunas' )\n",
    "print( f'Grupo tratamento contendo {df_treatment.shape[0]} linhas e {df_treatment.shape[1]} colunas' )\n",
    "\n",
    "print( '***' )\n",
    "### Taxa total da conversão de cada grupo\n",
    "print( '----Taxa geral de conversão----' )\n",
    "# Grupo controle\n",
    "mediagc_spent = df_control.spent.mean()\n",
    "mediagc_purcheases = df_control.purchases.mean()\n",
    "print( f'Grupo controle :   {mediagc_spent:.5} de média aproximada de gasto e {mediagc_purcheases:.2} de média de compras' )\n",
    "\n",
    "# Grupo tratamento\n",
    "mediagt_spent = df_treatment.spent.mean()\n",
    "mediagt_purcheases = df_treatment.purchases.mean()\n",
    "print( f'Grupo tratamento : {mediagt_spent:.5} de média aproximada de gasto e {mediagt_purcheases:.2} de média de compras' )\n",
    "\n",
    "\n"
   ]
  },
  {
   "cell_type": "markdown",
   "metadata": {},
   "source": [
    "# Check Point"
   ]
  },
  {
   "cell_type": "code",
   "execution_count": 4,
   "metadata": {},
   "outputs": [],
   "source": [
    "pkl.dump( df_control, open( '../models/df_control.sav', 'wb' ) )\n",
    "pkl.dump( df_treatment, open( '../models/df_treatment.sav', 'wb' ) )\n"
   ]
  },
  {
   "cell_type": "markdown",
   "metadata": {},
   "source": [
    "## 3. Design de experimentos"
   ]
  },
  {
   "cell_type": "markdown",
   "metadata": {},
   "source": [
    "    Como não foi acordado com o time de negócios qual métrica seria escolhida para medir a efetividade da página, serão realizados testes sobre spent e purchases isoladamente e apresentados os resultados."
   ]
  },
  {
   "cell_type": "markdown",
   "metadata": {},
   "source": [
    "### 3.1 Formulação das hipóteses "
   ]
  },
  {
   "cell_type": "markdown",
   "metadata": {},
   "source": [
    "    H0 = A nova página não surte efeito algum sobre as métricas de vendas;\n",
    "    H1 = A nova página surte efeito sobre as métricas de vendas."
   ]
  },
  {
   "cell_type": "markdown",
   "metadata": {},
   "source": [
    "## 4. Conclusão"
   ]
  },
  {
   "cell_type": "markdown",
   "metadata": {},
   "source": [
    "    Como as médias gerais dos grupos estão muito próximas, este ciclo se encerra nesta etapa. Frente a necessidade de granularizar mais o estudo.\n",
    "    Ao se passar pela EDA, nota-se uma PEQUENA diferença nos resultados de alguns países e também entre tipos de dispositivos. Pontos onde será aprofundado o estudo no próximo ciclo."
   ]
  }
 ],
 "metadata": {
  "kernelspec": {
   "display_name": "Python 3.10.4 ('ABtest_venv': venv)",
   "language": "python",
   "name": "python3"
  },
  "language_info": {
   "codemirror_mode": {
    "name": "ipython",
    "version": 3
   },
   "file_extension": ".py",
   "mimetype": "text/x-python",
   "name": "python",
   "nbconvert_exporter": "python",
   "pygments_lexer": "ipython3",
   "version": "3.10.6"
  },
  "orig_nbformat": 4,
  "vscode": {
   "interpreter": {
    "hash": "2cd1e6de87008a6cd757294b1fddf1cac5cb9509fb44448bc0ed1f19d34ef97c"
   }
  }
 },
 "nbformat": 4,
 "nbformat_minor": 2
}
